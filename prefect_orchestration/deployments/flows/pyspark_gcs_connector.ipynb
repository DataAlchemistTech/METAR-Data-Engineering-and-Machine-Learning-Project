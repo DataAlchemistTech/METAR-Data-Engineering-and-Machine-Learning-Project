{
 "cells": [
  {
   "cell_type": "code",
   "execution_count": 1,
   "metadata": {},
   "outputs": [],
   "source": [
    "import pyspark\n",
    "from pyspark.sql import SparkSession\n",
    "from pyspark.conf import SparkConf\n",
    "from pyspark.context import SparkContext\n",
    "from pyspark.sql.functions import col, to_timestamp"
   ]
  },
  {
   "cell_type": "code",
   "execution_count": 2,
   "metadata": {},
   "outputs": [],
   "source": [
    "credentials_location = '../../../.secrets/gcs_credentials_key.json'"
   ]
  },
  {
   "cell_type": "code",
   "execution_count": 4,
   "metadata": {},
   "outputs": [],
   "source": [
    "#adjusting spark configuration\n",
    "conf = SparkConf() \\\n",
    "    .setMaster('local[*]') \\\n",
    "    .setAppName('test') \\\n",
    "    .set(\"spark.jars\", \"./lib/gcs-connector-hadoop3-2.2.5.jar\") \\\n",
    "    .set(\"spark.hadoop.google.cloud.auth.service.account.enable\", \"true\") \\\n",
    "    .set(\"spark.hadoop.google.cloud.auth.service.account.json.keyfile\", credentials_location)\\\n",
    "    .set(\"spark.sql.parquet.enableVectorizedReader\",\"false\")\\\n",
    "    .set(\"spark.sql.parquet.writeLegacyFormat\",\"true\")\\\n",
    "    .set(\"spark.sql.files.ignoreCorruptFiles\", \"true\")\n",
    "\n",
    "#spark.sql.files.ignoreCorruptFiles <- important"
   ]
  },
  {
   "cell_type": "code",
   "execution_count": 5,
   "metadata": {},
   "outputs": [
    {
     "name": "stdout",
     "output_type": "stream",
     "text": [
      "23/04/07 17:40:23 WARN NativeCodeLoader: Unable to load native-hadoop library for your platform... using builtin-java classes where applicable\n"
     ]
    },
    {
     "name": "stderr",
     "output_type": "stream",
     "text": [
      "Setting default log level to \"WARN\".\n",
      "To adjust logging level use sc.setLogLevel(newLevel). For SparkR, use setLogLevel(newLevel).\n"
     ]
    }
   ],
   "source": [
    "sc = SparkContext(conf=conf)\n",
    "\n",
    "hadoop_conf = sc._jsc.hadoopConfiguration()\n",
    "\n",
    "hadoop_conf.set(\"fs.AbstractFileSystem.gs.impl\",  \"com.google.cloud.hadoop.fs.gcs.GoogleHadoopFS\")\n",
    "hadoop_conf.set(\"fs.gs.impl\", \"com.google.cloud.hadoop.fs.gcs.GoogleHadoopFileSystem\")\n",
    "hadoop_conf.set(\"fs.gs.auth.service.account.json.keyfile\", credentials_location)\n",
    "hadoop_conf.set(\"fs.gs.auth.service.account.enable\", \"true\")\n"
   ]
  },
  {
   "cell_type": "code",
   "execution_count": 127,
   "metadata": {},
   "outputs": [],
   "source": [
    "# log treshold: \"WARN\", \"ERROR\"\n",
    "sc.setLogLevel(\"ERROR\")"
   ]
  },
  {
   "cell_type": "code",
   "execution_count": 36,
   "metadata": {},
   "outputs": [],
   "source": [
    "#in case you need to stop spark context + open/clode jupyter notebook\n",
    "#sc.stop()"
   ]
  },
  {
   "cell_type": "code",
   "execution_count": 7,
   "metadata": {},
   "outputs": [],
   "source": [
    "spark = SparkSession.builder\\\n",
    "    .config(conf=sc.getConf())\\\n",
    "    .getOrCreate()"
   ]
  },
  {
   "cell_type": "code",
   "execution_count": 43,
   "metadata": {},
   "outputs": [
    {
     "data": {
      "text/html": [
       "\n",
       "            <div>\n",
       "                <p><b>SparkSession - in-memory</b></p>\n",
       "                \n",
       "        <div>\n",
       "            <p><b>SparkContext</b></p>\n",
       "\n",
       "            <p><a href=\"http://macbook-air-maria.home:4040\">Spark UI</a></p>\n",
       "\n",
       "            <dl>\n",
       "              <dt>Version</dt>\n",
       "                <dd><code>v3.3.2</code></dd>\n",
       "              <dt>Master</dt>\n",
       "                <dd><code>local[*]</code></dd>\n",
       "              <dt>AppName</dt>\n",
       "                <dd><code>test</code></dd>\n",
       "            </dl>\n",
       "        </div>\n",
       "        \n",
       "            </div>\n",
       "        "
      ],
      "text/plain": [
       "<pyspark.sql.session.SparkSession at 0x10e34a6b0>"
      ]
     },
     "execution_count": 43,
     "metadata": {},
     "output_type": "execute_result"
    }
   ],
   "source": [
    "#usefull info\n",
    "spark"
   ]
  },
  {
   "cell_type": "code",
   "execution_count": 68,
   "metadata": {},
   "outputs": [],
   "source": [
    "from pyspark.sql import types"
   ]
  },
  {
   "cell_type": "code",
   "execution_count": 70,
   "metadata": {},
   "outputs": [],
   "source": [
    "schema = types.StructType([\n",
    "    types.StructField(\"station\", types.StringType(), True),\n",
    "    types.StructField(\"valid\", types.StringType(), True),\n",
    "    types.StructField(\"lon\", types.DoubleType(), True),\n",
    "    types.StructField(\"lat\", types.DoubleType(), True),\n",
    "    types.StructField(\"elevation\", types.DoubleType(), True),\n",
    "    types.StructField(\"tmpf\", types.DoubleType(), True),\n",
    "    types.StructField(\"dwpf\", types.DoubleType(), True),\n",
    "    types.StructField(\"relh\", types.DoubleType(), True),\n",
    "    types.StructField(\"drct\", types.DoubleType(), True),\n",
    "    types.StructField(\"sknt\", types.DoubleType(), True),\n",
    "    types.StructField(\"p01i\", types.DoubleType(), True),\n",
    "    types.StructField(\"alti\", types.DoubleType(), True),\n",
    "    types.StructField(\"mslp\", types.DoubleType(), True),\n",
    "    types.StructField(\"vsby\", types.DoubleType(), True),\n",
    "    types.StructField(\"gust\", types.DoubleType(), True),\n",
    "    types.StructField(\"skyc1\", types.StringType(), True),\n",
    "    types.StructField(\"skyc2\", types.StringType(), True),\n",
    "    types.StructField(\"skyc3\", types.StringType(), True),\n",
    "    types.StructField(\"skyc4\", types.StringType(), True),\n",
    "    types.StructField(\"skyl1\", types.DoubleType(), True),\n",
    "    types.StructField(\"skyl2\", types.DoubleType(), True),\n",
    "    types.StructField(\"skyl3\", types.DoubleType(), True),\n",
    "    types.StructField(\"skyl4\", types.DoubleType(), True),\n",
    "    types.StructField(\"wxcodes\", types.StringType(), True),\n",
    "    types.StructField(\"ice_accretion_1hr\", types.DoubleType(), True),\n",
    "    types.StructField(\"ice_accretion_3hr\", types.DoubleType(), True),\n",
    "    types.StructField(\"ice_accretion_6hr\", types.DoubleType(), True),\n",
    "    types.StructField(\"peak_wind_gust\", types.DoubleType(), True),\n",
    "    types.StructField(\"peak_wind_drct\", types.DoubleType(), True),\n",
    "    types.StructField(\"peak_wind_time\", types.StringType(), True),\n",
    "    types.StructField(\"feel\", types.DoubleType(), True),\n",
    "    types.StructField(\"metar\", types.StringType(), True),\n",
    "    types.StructField(\"snowdepth\", types.DoubleType(), True)\n",
    "])"
   ]
  },
  {
   "cell_type": "code",
   "execution_count": 115,
   "metadata": {},
   "outputs": [],
   "source": [
    "#get data from GCS bucket\n",
    "metar_all_data = spark.read\\\n",
    "    .schema(schema=schema)\\\n",
    "    .parquet('gs://batch-metar-bucket-v1/data/*/*/*')"
   ]
  },
  {
   "cell_type": "code",
   "execution_count": 116,
   "metadata": {},
   "outputs": [],
   "source": [
    "metar_all_data = metar_all_data\\\n",
    "    .withColumn('valid', to_timestamp(col('valid'), 'yyy-MM-dd HH:mm'))"
   ]
  },
  {
   "cell_type": "code",
   "execution_count": 117,
   "metadata": {},
   "outputs": [
    {
     "name": "stderr",
     "output_type": "stream",
     "text": [
      "                                                                                \r"
     ]
    },
    {
     "data": {
      "text/plain": [
       "104002"
      ]
     },
     "execution_count": 117,
     "metadata": {},
     "output_type": "execute_result"
    }
   ],
   "source": [
    "metar_all_data.count()"
   ]
  },
  {
   "cell_type": "code",
   "execution_count": 120,
   "metadata": {},
   "outputs": [],
   "source": [
    "#schema check\n",
    "#metar_all_data.printSchema()"
   ]
  },
  {
   "attachments": {},
   "cell_type": "markdown",
   "metadata": {},
   "source": [
    "Spark SQL"
   ]
  },
  {
   "cell_type": "code",
   "execution_count": 122,
   "metadata": {},
   "outputs": [],
   "source": [
    "metar_all_data.createGlobalTempView('metar_data_all')"
   ]
  },
  {
   "cell_type": "code",
   "execution_count": 123,
   "metadata": {},
   "outputs": [],
   "source": [
    "#SQL test\n",
    "data = spark.sql('''\n",
    "          SELECT *\n",
    "          FROM metar_data_all\n",
    "          ''')"
   ]
  },
  {
   "cell_type": "code",
   "execution_count": 125,
   "metadata": {},
   "outputs": [
    {
     "name": "stderr",
     "output_type": "stream",
     "text": [
      "                                                                                \r"
     ]
    }
   ],
   "source": [
    "#save local\n",
    "data\\\n",
    "    .coalesce(1)\\\n",
    "    .write.csv('../flows/data/reports', mode='overwrite')"
   ]
  }
 ],
 "metadata": {
  "kernelspec": {
   "display_name": "Python 3",
   "language": "python",
   "name": "python3"
  },
  "language_info": {
   "codemirror_mode": {
    "name": "ipython",
    "version": 3
   },
   "file_extension": ".py",
   "mimetype": "text/x-python",
   "name": "python",
   "nbconvert_exporter": "python",
   "pygments_lexer": "ipython3",
   "version": "3.10.5"
  },
  "orig_nbformat": 4
 },
 "nbformat": 4,
 "nbformat_minor": 2
}
