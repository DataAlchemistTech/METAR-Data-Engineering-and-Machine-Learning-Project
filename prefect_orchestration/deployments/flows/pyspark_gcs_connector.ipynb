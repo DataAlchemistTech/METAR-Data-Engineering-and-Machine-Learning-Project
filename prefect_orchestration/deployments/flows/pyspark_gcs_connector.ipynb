{
 "cells": [
  {
   "cell_type": "code",
   "execution_count": 1,
   "metadata": {},
   "outputs": [],
   "source": [
    "import pyspark\n",
    "from pyspark.sql import SparkSession\n",
    "from pyspark.conf import SparkConf\n",
    "from pyspark.context import SparkContext\n",
    "from pyspark.sql.functions import col, to_timestamp"
   ]
  },
  {
   "cell_type": "code",
   "execution_count": 2,
   "metadata": {},
   "outputs": [],
   "source": [
    "credentials_location = '../../../.secrets/gcs_credentials_key.json'"
   ]
  },
  {
   "cell_type": "code",
   "execution_count": 3,
   "metadata": {},
   "outputs": [],
   "source": [
    "#adjusting spark configuration\n",
    "conf = SparkConf() \\\n",
    "    .setMaster('local[*]') \\\n",
    "    .setAppName('test') \\\n",
    "    .set(\"spark.jars\", \"./lib/gcs-connector-hadoop3-2.2.5.jar\") \\\n",
    "    .set(\"spark.hadoop.google.cloud.auth.service.account.enable\", \"true\") \\\n",
    "    .set(\"spark.hadoop.google.cloud.auth.service.account.json.keyfile\", credentials_location)\\\n",
    "    .set(\"spark.sql.parquet.enableVectorizedReader\",\"false\")\\\n",
    "    .set(\"spark.sql.parquet.writeLegacyFormat\",\"true\")\\\n",
    "    .set(\"spark.sql.files.ignoreCorruptFiles\", \"true\")\n",
    "\n",
    "#spark.sql.files.ignoreCorruptFiles <- important"
   ]
  },
  {
   "cell_type": "code",
   "execution_count": 4,
   "metadata": {},
   "outputs": [
    {
     "name": "stdout",
     "output_type": "stream",
     "text": [
      "23/04/13 09:06:20 WARN NativeCodeLoader: Unable to load native-hadoop library for your platform... using builtin-java classes where applicable\n"
     ]
    },
    {
     "name": "stderr",
     "output_type": "stream",
     "text": [
      "Setting default log level to \"WARN\".\n",
      "To adjust logging level use sc.setLogLevel(newLevel). For SparkR, use setLogLevel(newLevel).\n"
     ]
    }
   ],
   "source": [
    "sc = SparkContext(conf=conf)\n",
    "\n",
    "hadoop_conf = sc._jsc.hadoopConfiguration()\n",
    "\n",
    "hadoop_conf.set(\"fs.AbstractFileSystem.gs.impl\",  \"com.google.cloud.hadoop.fs.gcs.GoogleHadoopFS\")\n",
    "hadoop_conf.set(\"fs.gs.impl\", \"com.google.cloud.hadoop.fs.gcs.GoogleHadoopFileSystem\")\n",
    "hadoop_conf.set(\"fs.gs.auth.service.account.json.keyfile\", credentials_location)\n",
    "hadoop_conf.set(\"fs.gs.auth.service.account.enable\", \"true\")\n"
   ]
  },
  {
   "cell_type": "code",
   "execution_count": 5,
   "metadata": {},
   "outputs": [],
   "source": [
    "# log treshold: \"WARN\", \"ERROR\"\n",
    "sc.setLogLevel(\"ERROR\")"
   ]
  },
  {
   "cell_type": "code",
   "execution_count": 6,
   "metadata": {},
   "outputs": [],
   "source": [
    "#in case you need to stop spark context + open/clode jupyter notebook\n",
    "#sc.stop()"
   ]
  },
  {
   "cell_type": "code",
   "execution_count": 7,
   "metadata": {},
   "outputs": [],
   "source": [
    "spark = SparkSession.builder\\\n",
    "    .config(conf=sc.getConf())\\\n",
    "    .getOrCreate()"
   ]
  },
  {
   "cell_type": "code",
   "execution_count": 8,
   "metadata": {},
   "outputs": [
    {
     "data": {
      "text/html": [
       "\n",
       "            <div>\n",
       "                <p><b>SparkSession - in-memory</b></p>\n",
       "                \n",
       "        <div>\n",
       "            <p><b>SparkContext</b></p>\n",
       "\n",
       "            <p><a href=\"http://macbook-air-maria.home:4040\">Spark UI</a></p>\n",
       "\n",
       "            <dl>\n",
       "              <dt>Version</dt>\n",
       "                <dd><code>v3.3.2</code></dd>\n",
       "              <dt>Master</dt>\n",
       "                <dd><code>local[*]</code></dd>\n",
       "              <dt>AppName</dt>\n",
       "                <dd><code>test</code></dd>\n",
       "            </dl>\n",
       "        </div>\n",
       "        \n",
       "            </div>\n",
       "        "
      ],
      "text/plain": [
       "<pyspark.sql.session.SparkSession at 0x1078e7f40>"
      ]
     },
     "execution_count": 8,
     "metadata": {},
     "output_type": "execute_result"
    }
   ],
   "source": [
    "#usefull info\n",
    "spark"
   ]
  },
  {
   "cell_type": "code",
   "execution_count": 9,
   "metadata": {},
   "outputs": [],
   "source": [
    "from pyspark.sql import types"
   ]
  },
  {
   "cell_type": "code",
   "execution_count": 11,
   "metadata": {},
   "outputs": [],
   "source": [
    "schema = types.StructType([\n",
    "    types.StructField(\"station\", types.StringType(), True),\n",
    "    types.StructField(\"valid\", types.StringType(), True),\n",
    "    types.StructField(\"lon\", types.DoubleType(), True),\n",
    "    types.StructField(\"lat\", types.DoubleType(), True),\n",
    "    types.StructField(\"elevation\", types.DoubleType(), True),\n",
    "    types.StructField(\"tmpf\", types.DoubleType(), True),\n",
    "    types.StructField(\"dwpf\", types.DoubleType(), True),\n",
    "    types.StructField(\"relh\", types.DoubleType(), True),\n",
    "    types.StructField(\"drct\", types.DoubleType(), True),\n",
    "    types.StructField(\"sknt\", types.DoubleType(), True),\n",
    "    types.StructField(\"p01i\", types.DoubleType(), True),\n",
    "    types.StructField(\"alti\", types.DoubleType(), True),\n",
    "    types.StructField(\"mslp\", types.DoubleType(), True),\n",
    "    types.StructField(\"vsby\", types.DoubleType(), True),\n",
    "    types.StructField(\"gust\", types.DoubleType(), True),\n",
    "    types.StructField(\"skyc1\", types.StringType(), True),\n",
    "    types.StructField(\"skyc2\", types.StringType(), True),\n",
    "    types.StructField(\"skyc3\", types.StringType(), True),\n",
    "    types.StructField(\"skyc4\", types.StringType(), True),\n",
    "    types.StructField(\"skyl1\", types.DoubleType(), True),\n",
    "    types.StructField(\"skyl2\", types.DoubleType(), True),\n",
    "    types.StructField(\"skyl3\", types.DoubleType(), True),\n",
    "    types.StructField(\"skyl4\", types.DoubleType(), True),\n",
    "    types.StructField(\"wxcodes\", types.StringType(), True),\n",
    "    types.StructField(\"ice_accretion_1hr\", types.DoubleType(), True),\n",
    "    types.StructField(\"ice_accretion_3hr\", types.DoubleType(), True),\n",
    "    types.StructField(\"ice_accretion_6hr\", types.DoubleType(), True),\n",
    "    types.StructField(\"peak_wind_gust\", types.DoubleType(), True),\n",
    "    types.StructField(\"peak_wind_drct\", types.DoubleType(), True),\n",
    "    types.StructField(\"peak_wind_time\", types.StringType(), True),\n",
    "    types.StructField(\"feel\", types.DoubleType(), True),\n",
    "    types.StructField(\"metar\", types.StringType(), True),\n",
    "    types.StructField(\"snowdepth\", types.DoubleType(), True)\n",
    "])"
   ]
  },
  {
   "cell_type": "code",
   "execution_count": 12,
   "metadata": {},
   "outputs": [],
   "source": [
    "#get data from GCS bucket\n",
    "metar_all_data = spark.read\\\n",
    "    .schema(schema=schema)\\\n",
    "    .parquet('gs://batch-metar-bucket-v1/data/PL__ASOS/*/*')"
   ]
  },
  {
   "cell_type": "code",
   "execution_count": 13,
   "metadata": {},
   "outputs": [],
   "source": [
    "metar_all_data = metar_all_data\\\n",
    "    .withColumn('valid', to_timestamp(col('valid'), 'yyy-MM-dd HH:mm'))"
   ]
  },
  {
   "cell_type": "code",
   "execution_count": 14,
   "metadata": {},
   "outputs": [
    {
     "name": "stderr",
     "output_type": "stream",
     "text": [
      "                                                                                \r"
     ]
    },
    {
     "data": {
      "text/plain": [
       "1987651"
      ]
     },
     "execution_count": 14,
     "metadata": {},
     "output_type": "execute_result"
    }
   ],
   "source": [
    "metar_all_data.count()"
   ]
  },
  {
   "cell_type": "code",
   "execution_count": 120,
   "metadata": {},
   "outputs": [],
   "source": [
    "#schema check\n",
    "#metar_all_data.printSchema()"
   ]
  },
  {
   "cell_type": "code",
   "execution_count": 15,
   "metadata": {},
   "outputs": [
    {
     "name": "stderr",
     "output_type": "stream",
     "text": [
      "[Stage 3:>                                                          (0 + 1) / 1]\r"
     ]
    },
    {
     "name": "stdout",
     "output_type": "stream",
     "text": [
      "+-------+-------------------+-------+-------+---------+----+----+-----+-----+----+----+-----+----+----+----+-----+-----+-----+-----+-----+-----+-----+-----+--------+-----------------+-----------------+-----------------+--------------+--------------+--------------+-----+--------------------+---------+\n",
      "|station|              valid|    lon|    lat|elevation|tmpf|dwpf| relh| drct|sknt|p01i| alti|mslp|vsby|gust|skyc1|skyc2|skyc3|skyc4|skyl1|skyl2|skyl3|skyl4| wxcodes|ice_accretion_1hr|ice_accretion_3hr|ice_accretion_6hr|peak_wind_gust|peak_wind_drct|peak_wind_time| feel|               metar|snowdepth|\n",
      "+-------+-------------------+-------+-------+---------+----+----+-----+-----+----+----+-----+----+----+----+-----+-----+-----+-----+-----+-----+-----+-----+--------+-----------------+-----------------+-----------------+--------------+--------------+--------------+-----+--------------------+---------+\n",
      "|   EPKT|2015-01-01 00:30:00|19.0764|50.4694|    284.0|24.8|21.2|85.96|230.0| 7.0| 0.0|30.42|null|3.73|null|  BKN| null| null| null|800.0| null| null| null|    null|             null|             null|             null|          null|          null|          null| 16.0|EPKT 010030Z 2300...|     null|\n",
      "|   EPKT|2015-01-01 01:00:00|19.0764|50.4694|    284.0|24.8|21.2|85.96|220.0| 9.0| 0.0|30.42|null|3.73|null|  BKN| null| null| null|700.0| null| null| null|    null|             null|             null|             null|          null|          null|          null|14.56|EPKT 010100Z 2200...|     null|\n",
      "|   EPKT|2015-01-01 01:30:00|19.0764|50.4694|    284.0|24.8|21.2|85.96|220.0| 8.0| 0.0|30.42|null|3.73|null|  BKN| null| null| null|700.0| null| null| null|    null|             null|             null|             null|          null|          null|          null|15.24|EPKT 010130Z 2200...|     null|\n",
      "|   EPKT|2015-01-01 02:00:00|19.0764|50.4694|    284.0|24.8|21.2|85.96|220.0| 9.0| 0.0|30.42|null|3.11|null|  SCT|  BKN| null| null|600.0|700.0| null| null|      BR|             null|             null|             null|          null|          null|          null|14.56|EPKT 010200Z 2200...|     null|\n",
      "|   EPKT|2015-01-01 02:30:00|19.0764|50.4694|    284.0|24.8|21.2|85.96|220.0|10.0| 0.0|30.42|null|2.49|null|  BKN| null| null| null|600.0| null| null| null|  -SG BR|             null|             null|             null|          null|          null|          null|13.94|EPKT 010230Z 2201...|     null|\n",
      "|   EPKT|2015-01-01 03:00:00|19.0764|50.4694|    284.0|24.8|23.0|92.74|220.0| 7.0| 0.0|30.42|null|2.49|null|  BKN| null| null| null|500.0| null| null| null|-FZRA BR|             null|             null|             null|          null|          null|          null| 16.0|EPKT 010300Z 2200...|     null|\n",
      "|   EPKT|2015-01-01 03:30:00|19.0764|50.4694|    284.0|24.8|23.0|92.74|220.0| 8.0| 0.0|30.42|null|2.49|null|  BKN| null| null| null|600.0| null| null| null|-FZRA BR|             null|             null|             null|          null|          null|          null|15.24|EPKT 010330Z 2200...|     null|\n",
      "|   EPKT|2015-01-01 04:00:00|19.0764|50.4694|    284.0|24.8|23.0|92.74|230.0| 9.0| 0.0|30.42|null|1.86|null|  SCT|  BKN| null| null|500.0|600.0| null| null|-FZRA BR|             null|             null|             null|          null|          null|          null|14.56|EPKT 010400Z 2300...|     null|\n",
      "|   EPKT|2015-01-01 04:30:00|19.0764|50.4694|    284.0|24.8|24.8|100.0|220.0| 8.0| 0.0|30.42|null|1.55|null|  SCT|  BKN| null| null|300.0|500.0| null| null|-FZDZ BR|             null|             null|             null|          null|          null|          null|15.24|EPKT 010430Z 2200...|     null|\n",
      "|   EPKT|2015-01-01 05:00:00|19.0764|50.4694|    284.0|24.8|24.8|100.0|230.0| 8.0| 0.0|30.42|null|1.12|null|  SCT|  BKN| null| null|200.0|300.0| null| null|-FZRA BR|             null|             null|             null|          null|          null|          null|15.24|EPKT 010500Z 2300...|     null|\n",
      "|   EPKT|2015-01-01 05:30:00|19.0764|50.4694|    284.0|26.6|24.8| 92.8|230.0| 8.0| 0.0|30.42|null|0.75|null|  SCT|  BKN| null| null|100.0|200.0| null| null|-FZRA BR|             null|             null|             null|          null|          null|          null|17.46|EPKT 010530Z 2300...|     null|\n",
      "|   EPKT|2015-01-01 06:00:00|19.0764|50.4694|    284.0|26.6|26.6|100.0|230.0| 8.0| 0.0|30.42|null|1.24|null|  SCT|  BKN| null| null|100.0|200.0| null| null|-FZRA BR|             null|             null|             null|          null|          null|          null|17.46|EPKT 010600Z 2300...|     null|\n",
      "|   EPKT|2015-01-01 06:30:00|19.0764|50.4694|    284.0|26.6|26.6|100.0|230.0| 8.0| 0.0|30.42|null|1.24|null|  SCT|  BKN| null| null|100.0|200.0| null| null|-FZRA BR|             null|             null|             null|          null|          null|          null|17.46|EPKT 010630Z 2300...|     null|\n",
      "|   EPKT|2015-01-01 07:00:00|19.0764|50.4694|    284.0|26.6|26.6|100.0|230.0| 6.0| 0.0|30.42|null|0.93|null|  SCT|  BKN| null| null|100.0|200.0| null| null|-FZDZ BR|             null|             null|             null|          null|          null|          null|19.03|EPKT 010700Z 2300...|     null|\n",
      "|   EPKT|2015-01-01 07:30:00|19.0764|50.4694|    284.0|26.6|26.6|100.0|230.0| 6.0| 0.0|30.42|null|0.62|null|  OVC| null| null| null|100.0| null| null| null|-FZDZ BR|             null|             null|             null|          null|          null|          null|19.03|EPKT 010730Z 2300...|     null|\n",
      "|   EPKT|2015-01-01 08:00:00|19.0764|50.4694|    284.0|28.4|28.4|100.0|230.0| 6.0| 0.0|30.42|null|0.68|null|  OVC| null| null| null|100.0| null| null| null|-FZDZ BR|             null|             null|             null|          null|          null|          null|21.19|EPKT 010800Z 2300...|     null|\n",
      "|   EPKT|2015-01-01 08:30:00|19.0764|50.4694|    284.0|28.4|28.4|100.0|230.0| 6.0| 0.0|30.45|null|0.75|null|  OVC| null| null| null|100.0| null| null| null|-FZDZ BR|             null|             null|             null|          null|          null|          null|21.19|EPKT 010830Z 2300...|     null|\n",
      "|   EPKT|2015-01-01 09:00:00|19.0764|50.4694|    284.0|30.2|28.4|92.92|220.0| 7.0| 0.0|30.45|null|0.62|null|  OVC| null| null| null|100.0| null| null| null|-FZDZ BR|             null|             null|             null|          null|          null|          null|22.59|EPKT 010900Z 2200...|     null|\n",
      "|   EPKT|2015-01-01 09:30:00|19.0764|50.4694|    284.0|30.2|28.4|92.92|220.0| 5.0| 0.0|30.42|null|0.37|null|  OVC| null| null| null|100.0| null| null| null|    FZFG|             null|             null|             null|          null|          null|          null|24.26|EPKT 010930Z 2200...|     null|\n",
      "|   EPKT|2015-01-01 10:00:00|19.0764|50.4694|    284.0|30.2|30.2|100.0|220.0| 5.0| 0.0|30.42|null|0.16|null|  VV | null| null| null|100.0| null| null| null|    FZFG|             null|             null|             null|          null|          null|          null|24.26|EPKT 011000Z 2200...|     null|\n",
      "+-------+-------------------+-------+-------+---------+----+----+-----+-----+----+----+-----+----+----+----+-----+-----+-----+-----+-----+-----+-----+-----+--------+-----------------+-----------------+-----------------+--------------+--------------+--------------+-----+--------------------+---------+\n",
      "only showing top 20 rows\n",
      "\n"
     ]
    },
    {
     "name": "stderr",
     "output_type": "stream",
     "text": [
      "                                                                                \r"
     ]
    }
   ],
   "source": [
    "metar_all_data.show()"
   ]
  },
  {
   "attachments": {},
   "cell_type": "markdown",
   "metadata": {},
   "source": [
    "Spark SQL"
   ]
  },
  {
   "cell_type": "code",
   "execution_count": 16,
   "metadata": {},
   "outputs": [
    {
     "name": "stderr",
     "output_type": "stream",
     "text": [
      "/Users/mariaczapczyk/Documents/GitHub/METAR-Data-Engineering-and-Machine-Learning-Project/venv/lib/python3.10/site-packages/pyspark/sql/dataframe.py:229: FutureWarning: Deprecated in 2.0, use createOrReplaceTempView instead.\n",
      "  warnings.warn(\"Deprecated in 2.0, use createOrReplaceTempView instead.\", FutureWarning)\n"
     ]
    }
   ],
   "source": [
    "metar_all_data.registerTempTable('metar_data')"
   ]
  },
  {
   "cell_type": "code",
   "execution_count": 17,
   "metadata": {},
   "outputs": [],
   "source": [
    "#SQL test\n",
    "data = spark.sql('''\n",
    "          SELECT *\n",
    "          FROM metar_data\n",
    "          ''')"
   ]
  },
  {
   "cell_type": "code",
   "execution_count": 18,
   "metadata": {},
   "outputs": [],
   "source": [
    "data = spark.sql('''\n",
    "                 SELECT COUNT(station) AS sum_occurence, skyc1, station\n",
    "                 FROM metar_data\n",
    "                 WHERE skyc1 IS NOT NULL AND station = 'EPWA'\n",
    "                 GROUP BY skyc1, station\n",
    "                 ORDER BY sum_occurence DESC\n",
    "                 ''')"
   ]
  },
  {
   "cell_type": "code",
   "execution_count": 19,
   "metadata": {},
   "outputs": [
    {
     "name": "stderr",
     "output_type": "stream",
     "text": [
      "[Stage 4:====================================>                      (5 + 3) / 8]\r"
     ]
    },
    {
     "name": "stdout",
     "output_type": "stream",
     "text": [
      "+-------------+-----+-------+\n",
      "|sum_occurence|skyc1|station|\n",
      "+-------------+-----+-------+\n",
      "|        33349|  BKN|   EPWA|\n",
      "|        20161|  FEW|   EPWA|\n",
      "|        14365|  SCT|   EPWA|\n",
      "|         7122|  NSC|   EPWA|\n",
      "|         5113|  OVC|   EPWA|\n",
      "|          525|  VV |   EPWA|\n",
      "+-------------+-----+-------+\n",
      "\n"
     ]
    },
    {
     "name": "stderr",
     "output_type": "stream",
     "text": [
      "                                                                                \r"
     ]
    }
   ],
   "source": [
    "data.show()"
   ]
  },
  {
   "cell_type": "code",
   "execution_count": 20,
   "metadata": {},
   "outputs": [
    {
     "name": "stderr",
     "output_type": "stream",
     "text": [
      "                                                                                \r"
     ]
    }
   ],
   "source": [
    "#save local\n",
    "data\\\n",
    "    .coalesce(1)\\\n",
    "    .write.csv('../flows/data/reports', mode='overwrite', header=True)"
   ]
  }
 ],
 "metadata": {
  "kernelspec": {
   "display_name": "Python 3",
   "language": "python",
   "name": "python3"
  },
  "language_info": {
   "codemirror_mode": {
    "name": "ipython",
    "version": 3
   },
   "file_extension": ".py",
   "mimetype": "text/x-python",
   "name": "python",
   "nbconvert_exporter": "python",
   "pygments_lexer": "ipython3",
   "version": "3.10.5"
  },
  "orig_nbformat": 4
 },
 "nbformat": 4,
 "nbformat_minor": 2
}
